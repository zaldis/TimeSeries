{
 "cells": [
  {
   "cell_type": "code",
   "execution_count": 1,
   "id": "breathing-assets",
   "metadata": {},
   "outputs": [],
   "source": [
    "from pandas import read_csv, DataFrame, concat"
   ]
  },
  {
   "cell_type": "code",
   "execution_count": 2,
   "id": "searching-dinner",
   "metadata": {},
   "outputs": [
    {
     "name": "stdout",
     "output_type": "stream",
     "text": [
      "Date\n",
      "1981-01-01    20.7\n",
      "1981-01-02    17.9\n",
      "1981-01-03    18.8\n",
      "1981-01-04    14.6\n",
      "1981-01-05    15.8\n",
      "Name: Temp, dtype: float64\n"
     ]
    }
   ],
   "source": [
    "series = read_csv('daily-minimum-temperatures.csv', \n",
    "                  header=0, index_col=0, parse_dates=True, squeeze=True)\n",
    "print(series.head())"
   ]
  },
  {
   "cell_type": "code",
   "execution_count": 5,
   "id": "treated-carbon",
   "metadata": {},
   "outputs": [
    {
     "name": "stdout",
     "output_type": "stream",
     "text": [
      "   mean(t-1, t)   t+1\n",
      "0           NaN  20.7\n",
      "1           NaN  17.9\n",
      "2         19.30  18.8\n",
      "3         18.35  14.6\n",
      "4         16.70  15.8\n"
     ]
    }
   ],
   "source": [
    "temps = DataFrame(series.values)\n",
    "shifted = temps.shift(1)\n",
    "window = shifted.rolling(window=2)\n",
    "means = window.mean()\n",
    "dataframe = concat([means, temps], axis=1)\n",
    "dataframe.columns = ['mean(t-1, t)', 't+1']\n",
    "print(dataframe.head())"
   ]
  }
 ],
 "metadata": {
  "kernelspec": {
   "display_name": "Python 3",
   "language": "python",
   "name": "python3"
  },
  "language_info": {
   "codemirror_mode": {
    "name": "ipython",
    "version": 3
   },
   "file_extension": ".py",
   "mimetype": "text/x-python",
   "name": "python",
   "nbconvert_exporter": "python",
   "pygments_lexer": "ipython3",
   "version": "3.8.5"
  }
 },
 "nbformat": 4,
 "nbformat_minor": 5
}
